{
 "cells": [
  {
   "cell_type": "code",
   "execution_count": 45,
   "metadata": {},
   "outputs": [
    {
     "name": "stdout",
     "output_type": "stream",
     "text": [
      "개방서비스명            0\n",
      "개방자치단체코드          0\n",
      "관리번호              0\n",
      "인허가일자             0\n",
      "영업상태구분코드          0\n",
      "영업상태명             0\n",
      "상세영업상태코드          0\n",
      "상세영업상태명           0\n",
      "폐업일자         888958\n",
      "소재지전화        917222\n",
      "소재지면적        177777\n",
      "소재지우편번호       88335\n",
      "소재지전체주소        5949\n",
      "도로명전체주소      966731\n",
      "도로명우편번호      992199\n",
      "사업장명              1\n",
      "최종수정시점            0\n",
      "데이터갱신구분           0\n",
      "데이터갱신일자           0\n",
      "업태구분명           185\n",
      "좌표정보(x)      147453\n",
      "좌표정보(y)      147453\n",
      "위생업태명           188\n",
      "남성종사자수      1065799\n",
      "여성종사자수      1047017\n",
      "영업장주변구분명    1586360\n",
      "등급구분명       2047737\n",
      "급수시설구분명      907268\n",
      "총직원수        2143389\n",
      "본사직원수       2108617\n",
      "공장사무직직원수    2108621\n",
      "공장판매직직원수    2108621\n",
      "공장생산직직원수    2108621\n",
      "보증액         2108622\n",
      "월세액         2108620\n",
      "다중이용업소여부          3\n",
      "시설총규모             3\n",
      "전통업소지정번호    2554554\n",
      "전통업소주된음식    2561771\n",
      "dtype: int64\n"
     ]
    }
   ],
   "source": [
    "import pandas as pd\n",
    "import os\n",
    "import pymysql\n",
    "\n",
    "#불러올 데이터 \n",
    "raw_database_path= '/Users/joshsong/Coding/Bootcamp/CP/CP1/raw_data'\n",
    "normal_restaurant_path = raw_database_path+'/fulldata_07_24_04_P_일반음식점.csv'\n",
    "rest_restaurant_path = raw_database_path+'/fulldata_07_24_05_P_휴게음식점.csv'\n",
    "\n",
    "#데이터 불러와서 확인\n",
    "normal_restaurant=pd.read_csv(normal_restaurant_path,low_memory=False, encoding='cp949')\n",
    "rest_restaurant=pd.read_csv(rest_restaurant_path,low_memory=False, encoding='cp949')\n",
    "\n",
    "#합치기 전 columns이 같은지 확인\n",
    "# print((normal_restaurant.columns == rest_restaurant.columns))\n",
    "\n",
    "#데이터 합치기\n",
    "restaurant = pd.concat([normal_restaurant,rest_restaurant])\n",
    "\n",
    "#columns 확인\n",
    "# print(restaurant.columns)\n",
    "\n",
    "#이상한 column 확인 후 제거\n",
    "# print(restaurant['Unnamed: 47'])\n",
    "# print(restaurant.info())\n",
    "# print(restaurant.isnull().sum())\n",
    "\n",
    "restaurant=restaurant.drop(columns=['Unnamed: 47', '홈페이지', '인허가취소일자',\n",
    "'휴업시작일자','휴업종료일자','재개업일자','건물소유구분명','번호','개방서비스아이디'])\n",
    "\n",
    "print(restaurant.isnull().sum())\n"
   ]
  },
  {
   "cell_type": "code",
   "execution_count": 46,
   "metadata": {},
   "outputs": [
    {
     "data": {
      "text/plain": [
       "Index(['개방서비스명', '개방자치단체코드', '관리번호', '인허가일자', '영업상태구분코드', '영업상태명', '상세영업상태코드',\n",
       "       '상세영업상태명', '폐업일자', '소재지전화', '소재지면적', '소재지우편번호', '소재지전체주소', '도로명전체주소',\n",
       "       '도로명우편번호', '사업장명', '최종수정시점', '데이터갱신구분', '데이터갱신일자', '업태구분명', '좌표정보(x)',\n",
       "       '좌표정보(y)', '위생업태명', '남성종사자수', '여성종사자수', '영업장주변구분명', '등급구분명', '급수시설구분명',\n",
       "       '총직원수', '본사직원수', '공장사무직직원수', '공장판매직직원수', '공장생산직직원수', '보증액', '월세액',\n",
       "       '다중이용업소여부', '시설총규모', '전통업소지정번호', '전통업소주된음식'],\n",
       "      dtype='object')"
      ]
     },
     "execution_count": 46,
     "metadata": {},
     "output_type": "execute_result"
    }
   ],
   "source": [
    "restaurant.columns"
   ]
  },
  {
   "cell_type": "code",
   "execution_count": 47,
   "metadata": {},
   "outputs": [],
   "source": [
    "restaurant=restaurant.drop(columns=['영업상태구분코드','상세영업상태코드','상세영업상태명','소재지전화','소재지우편번호','도로명우편번호','데이터갱신구분','총직원수','본사직원수','공장사무직직원수','공장판매직직원수','공장생산직직원수','보증액','월세액'])"
   ]
  },
  {
   "cell_type": "code",
   "execution_count": 48,
   "metadata": {},
   "outputs": [],
   "source": [
    "restaurant.to_csv('./processed_data/restaurant.csv', index=False,encoding='utf-8-sig')"
   ]
  },
  {
   "cell_type": "code",
   "execution_count": 49,
   "metadata": {},
   "outputs": [
    {
     "name": "stdout",
     "output_type": "stream",
     "text": [
      "<class 'pandas.core.frame.DataFrame'>\n",
      "Int64Index: 2562841 entries, 0 to 519878\n",
      "Data columns (total 25 columns):\n",
      " #   Column    Dtype  \n",
      "---  ------    -----  \n",
      " 0   개방서비스명    object \n",
      " 1   개방자치단체코드  int64  \n",
      " 2   관리번호      object \n",
      " 3   인허가일자     int64  \n",
      " 4   영업상태명     object \n",
      " 5   폐업일자      float64\n",
      " 6   소재지면적     object \n",
      " 7   소재지전체주소   object \n",
      " 8   도로명전체주소   object \n",
      " 9   사업장명      object \n",
      " 10  최종수정시점    object \n",
      " 11  데이터갱신일자   object \n",
      " 12  업태구분명     object \n",
      " 13  좌표정보(x)   float64\n",
      " 14  좌표정보(y)   object \n",
      " 15  위생업태명     object \n",
      " 16  남성종사자수    float64\n",
      " 17  여성종사자수    float64\n",
      " 18  영업장주변구분명  object \n",
      " 19  등급구분명     object \n",
      " 20  급수시설구분명   object \n",
      " 21  다중이용업소여부  object \n",
      " 22  시설총규모     float64\n",
      " 23  전통업소지정번호  object \n",
      " 24  전통업소주된음식  object \n",
      "dtypes: float64(5), int64(2), object(18)\n",
      "memory usage: 508.4+ MB\n"
     ]
    }
   ],
   "source": [
    "restaurant.info()"
   ]
  },
  {
   "cell_type": "code",
   "execution_count": 51,
   "metadata": {},
   "outputs": [
    {
     "data": {
      "text/plain": [
       "array([  0.,   3.,   1.,  nan,   2.,   6.,   4.,   8.,   5.,  20.,   9.,\n",
       "        10.,   7.,  12., 120.,  13.,  16.,  17.,  28.,  29.,  15.,  11.,\n",
       "        94.,  93.,  95.,  55.,  40.,  23.,  -1.,  35.,  92.,  24.,  14.,\n",
       "        18.,  31.,  21.,  25.,  19.,  30.,  26.,  32.,  50.,  27.,  46.,\n",
       "        41.,  49.,  99.,  90.,  22.,  33.])"
      ]
     },
     "execution_count": 51,
     "metadata": {},
     "output_type": "execute_result"
    }
   ],
   "source": [
    "restaurant.남성종사자수.unique()"
   ]
  },
  {
   "cell_type": "code",
   "execution_count": 63,
   "metadata": {},
   "outputs": [
    {
     "name": "stdout",
     "output_type": "stream",
     "text": [
      "3000000\n",
      "3220000\n"
     ]
    }
   ],
   "source": [
    "sample = restaurant.iloc[:2]\n",
    "sample\n",
    "for index, row in sample.iterrows():\n",
    "    print(row[1])"
   ]
  },
  {
   "cell_type": "code",
   "execution_count": null,
   "metadata": {},
   "outputs": [],
   "source": []
  }
 ],
 "metadata": {
  "kernelspec": {
   "display_name": "cp1",
   "language": "python",
   "name": "python3"
  },
  "language_info": {
   "codemirror_mode": {
    "name": "ipython",
    "version": 3
   },
   "file_extension": ".py",
   "mimetype": "text/x-python",
   "name": "python",
   "nbconvert_exporter": "python",
   "pygments_lexer": "ipython3",
   "version": "3.10.8"
  },
  "orig_nbformat": 4,
  "vscode": {
   "interpreter": {
    "hash": "96d1925dba0bc27875247fca6fd059fa3318bea243c2a8f037de72ba54736e9a"
   }
  }
 },
 "nbformat": 4,
 "nbformat_minor": 2
}
